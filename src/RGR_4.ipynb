{
  "nbformat": 4,
  "nbformat_minor": 0,
  "metadata": {
    "colab": {
      "provenance": []
    },
    "kernelspec": {
      "name": "python3",
      "display_name": "Python 3"
    },
    "language_info": {
      "name": "python"
    }
  },
  "cells": [
    {
      "cell_type": "code",
      "execution_count": null,
      "metadata": {
        "id": "UuXybAwb8RV1"
      },
      "outputs": [],
      "source": [
        "import os.path\n",
        "import pandas as pd\n",
        "import numpy as np\n",
        "import matplotlib.pyplot as plt\n",
        "import seaborn as sns\n",
        "from scipy import stats\n",
        "from sklearn.model_selection import GridSearchCV\n",
        "from sklearn.model_selection import train_test_split\n",
        "from sklearn.linear_model import Ridge"
      ]
    },
    {
      "cell_type": "code",
      "source": [
        "from google.colab import drive\n",
        "drive.mount('/content/drive')"
      ],
      "metadata": {
        "colab": {
          "base_uri": "https://localhost:8080/"
        },
        "id": "mwUScBDC9Uff",
        "outputId": "449597b4-36a3-46df-fcdd-b17aaa2fda61"
      },
      "execution_count": null,
      "outputs": [
        {
          "output_type": "stream",
          "name": "stdout",
          "text": [
            "Mounted at /content/drive\n"
          ]
        }
      ]
    },
    {
      "cell_type": "code",
      "source": [
        "import warnings\n",
        "warnings.simplefilter('ignore')"
      ],
      "metadata": {
        "id": "YLqC_jX89Wm9"
      },
      "execution_count": null,
      "outputs": []
    },
    {
      "cell_type": "code",
      "source": [
        "pd.set_option('display.max_columns', 500)\n",
        "pd.set_option('display.max_rows', 500)"
      ],
      "metadata": {
        "id": "YD1QkEE79X-c"
      },
      "execution_count": null,
      "outputs": []
    },
    {
      "cell_type": "code",
      "source": [
        "print(os.path.exists(\"/content/drive/MyDrive/SS/laptop_price_modf.csv\"))"
      ],
      "metadata": {
        "colab": {
          "base_uri": "https://localhost:8080/"
        },
        "id": "UsMmk0dn9auk",
        "outputId": "c3903b20-e7d2-4876-e26a-0e2888b084db"
      },
      "execution_count": null,
      "outputs": [
        {
          "output_type": "stream",
          "name": "stdout",
          "text": [
            "True\n"
          ]
        }
      ]
    },
    {
      "cell_type": "code",
      "source": [
        "ds = pd.read_csv(\"/content/drive/MyDrive/SS/laptop_price_modf.csv\")"
      ],
      "metadata": {
        "id": "8IX9HWzA9cH1"
      },
      "execution_count": null,
      "outputs": []
    },
    {
      "cell_type": "code",
      "source": [
        "Y_column = ['Price_euros'] # target variable\n",
        "X_columns = ds.drop(['Price_euros'], axis=1).columns\n",
        "X = ds[X_columns]\n",
        "Y = ds[Y_column]"
      ],
      "metadata": {
        "id": "Bd89ejE69m1V"
      },
      "execution_count": null,
      "outputs": []
    },
    {
      "cell_type": "code",
      "source": [
        "# Let's say we want to split the data in 80:10:10 for train:valid:test dataset\n",
        "# In the first step we will split the data in training and remaining dataset\n",
        "X_train, X_test, Y_train, Y_test = train_test_split(X, Y, train_size=0.8)\n",
        "\n",
        "print(X_train.shape)\n",
        "print(Y_train.shape)\n",
        "print(X_test.shape)\n",
        "print(Y_test.shape)\n"
      ],
      "metadata": {
        "colab": {
          "base_uri": "https://localhost:8080/"
        },
        "id": "Br4QHo9x9rul",
        "outputId": "1e755457-e152-4b57-f9fa-feb031cbd76e"
      },
      "execution_count": null,
      "outputs": [
        {
          "output_type": "stream",
          "name": "stdout",
          "text": [
            "(1028, 337)\n",
            "(1028, 1)\n",
            "(257, 337)\n",
            "(257, 1)\n"
          ]
        }
      ]
    },
    {
      "cell_type": "code",
      "source": [
        "from sklearn import metrics\n",
        "import pandas as pd\n",
        "\n",
        "# Створіть функцію для навчання, передбачення та оцінки моделей\n",
        "def fit_predict_score(model, X_train, Y_train, X_valid, Y_valid):\n",
        "    model.fit(X_train, Y_train)\n",
        "    Y_pred = model.predict(X_valid)\n",
        "    return metrics.mean_squared_error(Y_valid, Y_pred), metrics.r2_score(Y_valid, Y_pred)"
      ],
      "metadata": {
        "id": "7jz2EbNAAoFM"
      },
      "execution_count": null,
      "outputs": []
    },
    {
      "cell_type": "code",
      "source": [
        "ridge_model = Ridge()\n",
        "mse, r2_score = fit_predict_score(ridge_model, X_train, Y_train, X_test, Y_test)\n",
        "print(\"MSE: \", mse)\n",
        "print(\"R^2: \", r2_score)\n",
        "#param_grid = {'alpha': [0.1, 1, 10, 100]}"
      ],
      "metadata": {
        "colab": {
          "base_uri": "https://localhost:8080/"
        },
        "id": "Ab6turkQ9uqV",
        "outputId": "8ee3d138-4b7d-4b17-ce23-075e90568d3d"
      },
      "execution_count": null,
      "outputs": [
        {
          "output_type": "stream",
          "name": "stdout",
          "text": [
            "MSE:  99810.19897733325\n",
            "R^2:  0.753265582295165\n"
          ]
        }
      ]
    },
    {
      "cell_type": "code",
      "source": [
        "ridge_model.get_params()"
      ],
      "metadata": {
        "colab": {
          "base_uri": "https://localhost:8080/"
        },
        "id": "nqHgRHk3_R9n",
        "outputId": "794f7d77-7164-4acf-f956-cb9208ef03bb"
      },
      "execution_count": null,
      "outputs": [
        {
          "output_type": "execute_result",
          "data": {
            "text/plain": [
              "{'alpha': 1.0,\n",
              " 'copy_X': True,\n",
              " 'fit_intercept': True,\n",
              " 'max_iter': None,\n",
              " 'positive': False,\n",
              " 'random_state': None,\n",
              " 'solver': 'auto',\n",
              " 'tol': 0.0001}"
            ]
          },
          "metadata": {},
          "execution_count": 11
        }
      ]
    },
    {
      "cell_type": "code",
      "source": [
        "%%time\n",
        "# Create the random grid\n",
        "param_grid = {\n",
        "    'alpha': [0.001, 0.01, 0.1, 1, 10, 100],  # Пошук оптимального значення alpha\n",
        "    'solver': ['auto', 'svd', 'cholesky', 'lsqr', 'sparse_cg', 'sag', 'saga'],  # Метод розв'язку\n",
        "}\n",
        "\n",
        "# print(random_grid)\n",
        "\n",
        "ridge_model = Ridge()\n",
        "\n",
        "grid = GridSearchCV(ridge_model, param_grid, cv=5, scoring='r2')\n",
        "\n",
        "grid.fit(X_train, Y_train)\n",
        "\n",
        "print(\"The best parameters are %s with a score of %0.2f\"\n",
        "      % (grid.best_params_, grid.best_score_))"
      ],
      "metadata": {
        "colab": {
          "base_uri": "https://localhost:8080/"
        },
        "id": "bf3cWGmK_Uc_",
        "outputId": "10c51a92-8e13-4415-a09e-e11952aa1835"
      },
      "execution_count": null,
      "outputs": [
        {
          "output_type": "stream",
          "name": "stdout",
          "text": [
            "The best parameters are {'alpha': 1, 'solver': 'lsqr'} with a score of 0.80\n",
            "CPU times: user 1min 9s, sys: 14.8 s, total: 1min 24s\n",
            "Wall time: 1min 16s\n"
          ]
        }
      ]
    },
    {
      "cell_type": "code",
      "source": [
        "# Найкращі значення гіперпараметрів\n",
        "best_alpha = grid.best_params_['alpha']\n",
        "best_solver = grid.best_params_['solver']\n",
        "\n",
        "# Використання найкращого значення alpha для створення моделі\n",
        "best_ridge_model = Ridge(alpha=best_alpha, solver=best_solver)\n",
        "\n",
        "# Пошук значень MSE та R^2 Score для найкращої моделі на тестовій вибірці\n",
        "mse, r2_score = fit_predict_score(best_ridge_model, X_train, Y_train, X_test, Y_test)"
      ],
      "metadata": {
        "id": "jFNoGLFF_xuN"
      },
      "execution_count": null,
      "outputs": []
    },
    {
      "cell_type": "code",
      "source": [
        "print(\"MSE: \", mse)\n",
        "print(\"R^2: \", r2_score)"
      ],
      "metadata": {
        "colab": {
          "base_uri": "https://localhost:8080/"
        },
        "id": "oDLlNKFZA9ps",
        "outputId": "6d6446b9-cb8f-40ac-933c-d42210d4acf3"
      },
      "execution_count": null,
      "outputs": [
        {
          "output_type": "stream",
          "name": "stdout",
          "text": [
            "MSE:  99783.79564705757\n",
            "R^2:  0.753330852281477\n"
          ]
        }
      ]
    }
  ]
}